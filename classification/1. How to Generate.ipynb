{
 "cells": [
  {
   "cell_type": "code",
   "execution_count": 4,
   "metadata": {},
   "outputs": [],
   "source": [
    "from src.core.Generation import Generation"
   ]
  },
  {
   "cell_type": "code",
   "execution_count": 5,
   "metadata": {},
   "outputs": [
    {
     "name": "stdout",
     "output_type": "stream",
     "text": [
      "Data Directory: data\\DnB-Genres\n",
      " -> Break: dataframe satisfied with 1000 rows.\n",
      " -> Breakcore: library empty.\n",
      " -> Crossbread: library missing 93 files.\n"
     ]
    },
    {
     "name": "stderr",
     "output_type": "stream",
     "text": [
      "Crossbread\t█▍                   70/1000 [00:00 -> ?]\n"
     ]
    },
    {
     "name": "stdout",
     "output_type": "stream",
     "text": [
      " -> Dancefloor: dataframe satisfied with 1000 rows.\n",
      " -> Deep: dataframe satisfied with 1000 rows.\n",
      " -> Drumstep: library missing 72 files.\n"
     ]
    },
    {
     "name": "stderr",
     "output_type": "stream",
     "text": [
      "Drumstep\t█████▌               280/1000 [00:00 -> ?]\n"
     ]
    },
    {
     "name": "stdout",
     "output_type": "stream",
     "text": [
      " -> Dubstep: library empty.\n",
      " -> JumpUp: dataframe satisfied with 1000 rows.\n",
      " -> Jungle: dataframe satisfied with 1000 rows.\n",
      " -> Liquid: dataframe satisfied with 1000 rows.\n",
      " -> Minimal: dataframe satisfied with 1000 rows.\n",
      " -> Neurofunk: dataframe satisfied with 1000 rows.\n",
      " -> Sambass: dataframe satisfied with 1000 rows.\n",
      " -> Shriek: dataframe satisfied with 1000 rows.\n"
     ]
    }
   ],
   "source": [
    "cation = Generation(data_dir='DnB-Genres', segments = 10, tracks = 100, seconds = 3)\n",
    "cation.loadAudioLibrary('D:/Musik/Genres/Electronic/DnB/')"
   ]
  },
  {
   "cell_type": "markdown",
   "metadata": {},
   "source": []
  }
 ],
 "metadata": {
  "kernelspec": {
   "display_name": "Python 3.8.13 ('base')",
   "language": "python",
   "name": "python3"
  },
  "language_info": {
   "codemirror_mode": {
    "name": "ipython",
    "version": 3
   },
   "file_extension": ".py",
   "mimetype": "text/x-python",
   "name": "python",
   "nbconvert_exporter": "python",
   "pygments_lexer": "ipython3",
   "version": "3.8.13"
  },
  "orig_nbformat": 4,
  "vscode": {
   "interpreter": {
    "hash": "66887cb6b0fecaeb021b7b4d78aaefc960d0e58c2264a73e75f872185525bde4"
   }
  }
 },
 "nbformat": 4,
 "nbformat_minor": 2
}
